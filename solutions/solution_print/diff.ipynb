{
 "cells": [
  {
   "cell_type": "code",
   "execution_count": 38,
   "metadata": {},
   "outputs": [],
   "source": [
    "from sympy import *"
   ]
  },
  {
   "cell_type": "code",
   "execution_count": 39,
   "metadata": {},
   "outputs": [
    {
     "data": {
      "text/latex": [
       "$\\displaystyle \\frac{1}{9}$"
      ],
      "text/plain": [
       "1/9"
      ]
     },
     "execution_count": 39,
     "metadata": {},
     "output_type": "execute_result"
    }
   ],
   "source": [
    "# x1,x2 = 0,1\n",
    "# y1,y2 = 0,1\n",
    "# z1,z2 = 0,1\n",
    "x1,x2 = 1,1.001\n",
    "y1,y2 = 1,1.001\n",
    "z1,z2 = 1,1.001\n",
    "# x1,x2 = symbols(\"x1 x2\", constant = True)\n",
    "# y1,y2 = symbols(\"y1 y2\")\n",
    "# z1,z2 = symbols(\"z1 z2\")\n",
    "\n",
    "x,y,z = symbols('x y z')\n",
    "X1, X2 = (x2-x)/(x2-x1),(x-x1)/(x2-x1) \n",
    "Y1, Y2 = (y2-y)/(y2-y1),(y-y1)/(y2-y1) \n",
    "Z1, Z2 = (z2-z)/(z2-z1),(z-z1)/(z2-z1)\n",
    "psi1 = X1*Y1*Z1\n",
    "psi2 = X2*Y1*Z1\n",
    "psi3 = X1*Y2*Z1\n",
    "psi4 = X2*Y2*Z1 \n",
    "psi5 = X1*Y1*Z2\n",
    "psi6 = X2*Y1*Z2\n",
    "psi7 = X1*Y2*Z2\n",
    "psi8 = X2*Y2*Z2\n",
    "psi = (psi1,psi2,psi3,psi4,psi5,psi6,psi7,psi8)\n",
    "derivs = tuple((diff(func,x),diff(func,y),diff(func,z)) for func in psi)\n",
    "integrate(derivs[0][0]*derivs[0][0],(x,x1,x2),(y,y1,y2),(z,z1,z2))\n"
   ]
  },
  {
   "cell_type": "code",
   "execution_count": 40,
   "metadata": {},
   "outputs": [],
   "source": [
    "matrix = [[0 for j in range(8)] for i in range(8)]\n",
    "\n",
    "for i in range(8):\n",
    "    for j in range(8):\n",
    "        matrix[i][j] = integrate(derivs[i][0]*derivs[j][0],(x,x1,x2),(y,y1,y2),(z,z1,z2))\n",
    "G1 = Matrix(matrix)\n",
    "\n",
    "for i in range(8):\n",
    "    for j in range(8):\n",
    "        matrix[i][j] = integrate(derivs[i][1]*derivs[j][1],(x,x1,x2),(y,y1,y2),(z,z1,z2))\n",
    "G2 = Matrix(matrix)\n",
    "\n",
    "for i in range(8):\n",
    "    for j in range(8):\n",
    "        matrix[i][j] = integrate(derivs[i][2]*derivs[j][2],(x,x1,x2),(y,y1,y2),(z,z1,z2))\n",
    "G3 = Matrix(matrix)"
   ]
  },
  {
   "cell_type": "code",
   "execution_count": 44,
   "metadata": {},
   "outputs": [
    {
     "data": {
      "text/latex": [
       "$\\displaystyle \\left[\\begin{matrix}4 & 2 & 2 & 1 & -4 & -2 & -2 & -1\\\\2 & 4 & 1 & 2 & -2 & -4 & -1 & -2\\\\2 & 1 & 4 & 2 & -2 & -1 & -4 & -2\\\\1 & 2 & 2 & 4 & -1 & -2 & -2 & -4\\\\-4 & -2 & -2 & -1 & 4 & 2 & 2 & 1\\\\-2 & -4 & -1 & -2 & 2 & 4 & 1 & 2\\\\-2 & -1 & -4 & -2 & 2 & 1 & 4 & 2\\\\-1 & -2 & -2 & -4 & 1 & 2 & 2 & 4\\end{matrix}\\right]$"
      ],
      "text/plain": [
       "Matrix([\n",
       "[ 4,  2,  2,  1, -4, -2, -2, -1],\n",
       "[ 2,  4,  1,  2, -2, -4, -1, -2],\n",
       "[ 2,  1,  4,  2, -2, -1, -4, -2],\n",
       "[ 1,  2,  2,  4, -1, -2, -2, -4],\n",
       "[-4, -2, -2, -1,  4,  2,  2,  1],\n",
       "[-2, -4, -1, -2,  2,  4,  1,  2],\n",
       "[-2, -1, -4, -2,  2,  1,  4,  2],\n",
       "[-1, -2, -2, -4,  1,  2,  2,  4]])"
      ]
     },
     "execution_count": 44,
     "metadata": {},
     "output_type": "execute_result"
    }
   ],
   "source": [
    "G3*36"
   ]
  },
  {
   "cell_type": "code",
   "execution_count": 45,
   "metadata": {},
   "outputs": [],
   "source": [
    "def u(x,y,z):\n",
    "    return x*y*z"
   ]
  },
  {
   "cell_type": "code",
   "execution_count": 47,
   "metadata": {},
   "outputs": [
    {
     "data": {
      "text/latex": [
       "$\\displaystyle \\left[\\begin{matrix}0\\\\0\\\\0\\\\0\\\\0\\\\0\\\\0\\\\1\\end{matrix}\\right]$"
      ],
      "text/plain": [
       "Matrix([\n",
       "[0],\n",
       "[0],\n",
       "[0],\n",
       "[0],\n",
       "[0],\n",
       "[0],\n",
       "[0],\n",
       "[1]])"
      ]
     },
     "execution_count": 47,
     "metadata": {},
     "output_type": "execute_result"
    }
   ],
   "source": [
    "q = Matrix([u(x1,y1,z1),u(x2,y1,z1),u(x1,y2,z1),u(x2,y2,z1),u(x1,y1,z2),u(x2,y1,z2),u(x1,y2,z2),u(x2,y2,z2)])\n",
    "q"
   ]
  }
 ],
 "metadata": {
  "kernelspec": {
   "display_name": "Python 3",
   "language": "python",
   "name": "python3"
  },
  "language_info": {
   "codemirror_mode": {
    "name": "ipython",
    "version": 3
   },
   "file_extension": ".py",
   "mimetype": "text/x-python",
   "name": "python",
   "nbconvert_exporter": "python",
   "pygments_lexer": "ipython3",
   "version": "3.8.8"
  },
  "orig_nbformat": 4
 },
 "nbformat": 4,
 "nbformat_minor": 2
}
